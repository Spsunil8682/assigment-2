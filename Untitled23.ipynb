{
  "nbformat": 4,
  "nbformat_minor": 0,
  "metadata": {
    "colab": {
      "name": "Untitled23.ipynb",
      "provenance": [],
      "authorship_tag": "ABX9TyObL9AFAEiWZlsgDmZKu3ps",
      "include_colab_link": true
    },
    "kernelspec": {
      "name": "python3",
      "display_name": "Python 3"
    },
    "language_info": {
      "name": "python"
    }
  },
  "cells": [
    {
      "cell_type": "markdown",
      "metadata": {
        "id": "view-in-github",
        "colab_type": "text"
      },
      "source": [
        "<a href=\"https://colab.research.google.com/github/Spsunil8682/practice--3/blob/main/Untitled23.ipynb\" target=\"_parent\"><img src=\"https://colab.research.google.com/assets/colab-badge.svg\" alt=\"Open In Colab\"/></a>"
      ]
    },
    {
      "cell_type": "code",
      "metadata": {
        "colab": {
          "base_uri": "https://localhost:8080/"
        },
        "id": "z9nNCW3Uin5F",
        "outputId": "669406ee-cde6-4604-c25a-1ba0cdc29d5f"
      },
      "source": [
        "# A Sample class with init method  \n",
        "class Country:  \n",
        "      \n",
        "    # init method or constructor   \n",
        "    def __init__(self,name):  \n",
        "        self.name = name \n",
        "      \n",
        "    # Sample Method   \n",
        "    def say_name(self):  \n",
        "        print('Hello, Country name is', self.name)  \n",
        "  \n",
        "# Creating different objects     \n",
        "c1 = Country('UK') \n",
        "c2 = Country('USA')\n",
        "c3 = Country('India')\n",
        "  \n",
        "c1.say_name()  \n",
        "c2.say_name()\n",
        "c3.say_name()"
      ],
      "execution_count": 4,
      "outputs": [
        {
          "output_type": "stream",
          "name": "stdout",
          "text": [
            "Hello, Country name is UK\n",
            "Hello, Country name is USA\n",
            "Hello, Country name is India\n"
          ]
        }
      ]
    },
    {
      "cell_type": "code",
      "metadata": {
        "colab": {
          "base_uri": "https://localhost:8080/"
        },
        "id": "-wyue_nrisU5",
        "outputId": "0bc7ff1c-3a13-4d37-958e-511ce51587fa"
      },
      "source": [
        "class Car:\n",
        "    __maxspeed = 0\n",
        "    __name = \"\"    \n",
        "    def __init__(self):\n",
        "        self.__maxspeed = 400\n",
        "        self.__name = \"Supercar\"    \n",
        "    def drive(self):\n",
        "        print('driving. maxspeed ' + str(self.__maxspeed))\n",
        "    \n",
        "\n",
        "redcar = Car()\n",
        "redcar.drive()\n",
        "mxspeed =10\n",
        "redcar.__maxspeed = 10        # will not change variable because its private\n",
        "redcar.drive()"
      ],
      "execution_count": 5,
      "outputs": [
        {
          "output_type": "stream",
          "name": "stdout",
          "text": [
            "driving. maxspeed 400\n",
            "driving. maxspeed 400\n"
          ]
        }
      ]
    },
    {
      "cell_type": "code",
      "metadata": {
        "colab": {
          "base_uri": "https://localhost:8080/"
        },
        "id": "-MzZ6iN2izsN",
        "outputId": "c9436e45-1700-436f-9302-948defc58b47"
      },
      "source": [
        "# Python program to demonstrate private members\n",
        " \n",
        "# Creating a Base class\n",
        "class Base:\n",
        "    def __init__(self):\n",
        "        self.a = \"OOP Course\"\n",
        "        self.__c = \"IIIT DWD\"\n",
        "        print(\"Calling private member of base class: \")\n",
        "        print(self.__c)\n",
        "# Driver code\n",
        "obj1 = Base()\n",
        "print(obj1.a)"
      ],
      "execution_count": 6,
      "outputs": [
        {
          "output_type": "stream",
          "name": "stdout",
          "text": [
            "Calling private member of base class: \n",
            "IIIT DWD\n",
            "OOP Course\n"
          ]
        }
      ]
    },
    {
      "cell_type": "code",
      "metadata": {
        "colab": {
          "base_uri": "https://localhost:8080/"
        },
        "id": "2qpZmCTBi3Vm",
        "outputId": "304ade67-7477-48a6-ee7a-043c5a3492d2"
      },
      "source": [
        "# Python program to demonstrate private members\n",
        " \n",
        "# Creating a Base class\n",
        "class Base:\n",
        "    def __init__(self):\n",
        "        self.a = \"OOP Course\"\n",
        "        self.__c = \"IIIT DWD\"\n",
        "# Creating a derived class\n",
        "class Derived(Base):\n",
        "    def __init__(self):   \n",
        "        # Calling constructor of Base class\n",
        "        Base.__init__(self)\n",
        "        print(\"Calling private member of base class: \")\n",
        "        print(self.__c)\n",
        "# Driver code\n",
        "obj1 = Base()\n",
        "print(obj1.a)"
      ],
      "execution_count": 7,
      "outputs": [
        {
          "output_type": "stream",
          "name": "stdout",
          "text": [
            "OOP Course\n"
          ]
        }
      ]
    },
    {
      "cell_type": "code",
      "metadata": {
        "colab": {
          "base_uri": "https://localhost:8080/"
        },
        "id": "4j29wMIhi8Xs",
        "outputId": "c6da727e-59de-4e50-8d9b-99ac10fcc416"
      },
      "source": [
        "class student:\n",
        "  count=0\n",
        "  def __init__(self,num) :\n",
        "    student.count=student.count+num\n",
        "\n",
        "s1=student(4)\n",
        "s2=student(5)\n",
        "s3=student(6)\n",
        "\n",
        "print(\"number of students in OOP class :\", student.count)\n",
        "print(\"number of students in OOP class:\", s2.count)"
      ],
      "execution_count": 8,
      "outputs": [
        {
          "output_type": "stream",
          "name": "stdout",
          "text": [
            "number of students in OOP class : 15\n",
            "number of students in OOP class: 15\n"
          ]
        }
      ]
    },
    {
      "cell_type": "code",
      "metadata": {
        "colab": {
          "base_uri": "https://localhost:8080/"
        },
        "id": "k3A6_wYLjFiR",
        "outputId": "dd700099-366a-430d-ef76-150d5e3dc70a"
      },
      "source": [
        "# Example non parametrized constructors\n",
        "class student:\n",
        "  count=0\n",
        "  def __init__(self) :\n",
        "    print(\"This is non parametrized constructor with no arguments or parameters\") \n",
        "\n",
        "  def shownum(self,num):\n",
        "       print(\"number of students in OOP class :\", num * num)\n",
        "       return num\n",
        "s1=student()\n",
        "s2=student()\n",
        "s3=student()\n",
        "\n",
        "result1= s1.shownum(5)\n",
        "result2= s2.shownum(6)\n",
        "\n",
        "print(\"number of students in OOP class :\", result1,result2)"
      ],
      "execution_count": 9,
      "outputs": [
        {
          "output_type": "stream",
          "name": "stdout",
          "text": [
            "This is non parametrized constructor with no arguments or parameters\n",
            "This is non parametrized constructor with no arguments or parameters\n",
            "This is non parametrized constructor with no arguments or parameters\n",
            "number of students in OOP class : 25\n",
            "number of students in OOP class : 36\n",
            "number of students in OOP class : 5 6\n"
          ]
        }
      ]
    },
    {
      "cell_type": "code",
      "metadata": {
        "colab": {
          "base_uri": "https://localhost:8080/"
        },
        "id": "dKTR7isbjWyf",
        "outputId": "0010fa9a-a7bd-4b00-8d65-2d8580298918"
      },
      "source": [
        "# Example parametrized constructors\n",
        "class student:\n",
        "  count=0\n",
        "  def __init__(self,stname,stage) :\n",
        "    self.name = stname\n",
        "    self.age = stage\n",
        "    print(\"This is parametrized constructor with no arguments or parameters\") \n",
        "\n",
        "  def display(self,styear):\n",
        "       print(\"Student joined IIIT Dharwad   :\", self.name, self.age, styear)\n",
        "       if styear <= 2020 :\n",
        "         print (\"Student has completed the course\")\n",
        "       return \n",
        "s1=student(\"Ram\",21)\n",
        "s2=student(\"Krishna\",23)\n",
        "s3=student(\"Kumar\",22)\n",
        "\n",
        "s1.display(2021)\n",
        "s2.display(2019)"
      ],
      "execution_count": 10,
      "outputs": [
        {
          "output_type": "stream",
          "name": "stdout",
          "text": [
            "This is parametrized constructor with no arguments or parameters\n",
            "This is parametrized constructor with no arguments or parameters\n",
            "This is parametrized constructor with no arguments or parameters\n",
            "Student joined IIIT Dharwad   : Ram 21 2021\n",
            "Student joined IIIT Dharwad   : Krishna 23 2019\n",
            "Student has completed the course\n"
          ]
        }
      ]
    },
    {
      "cell_type": "code",
      "metadata": {
        "colab": {
          "base_uri": "https://localhost:8080/"
        },
        "id": "aKDe4uT4jdCk",
        "outputId": "77cc5d38-bc38-471d-ff65-01f611d9ca30"
      },
      "source": [
        "# Python Default Constructor\n",
        "# Example parametrized constructors\n",
        "class student:\n",
        "    name = \"Ram\"\n",
        "    age =  21\n",
        "\n",
        "    def display(self,styear):\n",
        "       print(\"Student joined IIIT Dharwad   :\", self.name, self.age, styear)\n",
        "       if styear <= 2020 :\n",
        "         print (\"Student has completed the course\")\n",
        "       return \n",
        "s1=student()\n",
        "s2=student()\n",
        "s3=student()\n",
        "\n",
        "s1.display(2021)\n",
        "s2.display(2019)"
      ],
      "execution_count": 11,
      "outputs": [
        {
          "output_type": "stream",
          "name": "stdout",
          "text": [
            "Student joined IIIT Dharwad   : Ram 21 2021\n",
            "Student joined IIIT Dharwad   : Ram 21 2019\n",
            "Student has completed the course\n"
          ]
        }
      ]
    },
    {
      "cell_type": "code",
      "metadata": {
        "colab": {
          "base_uri": "https://localhost:8080/"
        },
        "id": "0bLQfGIXkAHj",
        "outputId": "ca21de73-7cf8-4fe9-aa8b-29b97615a3b3"
      },
      "source": [
        "class Addition:\n",
        "    first = 0\n",
        "    second = 0\n",
        "    answer = 0\n",
        "     \n",
        "    # parameterized constructor\n",
        "    def __init__(self, f, s):\n",
        "        self.first = f\n",
        "        self.second = s\n",
        "     \n",
        "    def display(self):\n",
        "        print(\"First number = \" + str(self.first))\n",
        "        print(\"Second number = \" + str(self.second))\n",
        "        print(\"Addition of two numbers = \" + str(self.answer))\n",
        " \n",
        "    def calculate(self):\n",
        "        self.answer = self.first + self.second\n",
        " \n",
        "# creating object of the class\n",
        "# this will invoke parameterized constructor\n",
        "obj = Addition(1000, 2000)\n",
        " \n",
        "# perform Addition\n",
        "obj.calculate()\n",
        " \n",
        "# display result\n",
        "obj.display()"
      ],
      "execution_count": 12,
      "outputs": [
        {
          "output_type": "stream",
          "name": "stdout",
          "text": [
            "First number = 1000\n",
            "Second number = 2000\n",
            "Addition of two numbers = 3000\n"
          ]
        }
      ]
    },
    {
      "cell_type": "markdown",
      "metadata": {
        "id": "vxf8IviSkOaw"
      },
      "source": [
        "# New Section"
      ]
    }
  ]
}